{
 "cells": [
  {
   "cell_type": "code",
   "execution_count": null,
   "metadata": {
    "collapsed": false
   },
   "outputs": [],
   "source": [
    "from PIL import Image\n",
    "import matplotlib.pyplot as plt\n",
    "import numpy as np\n",
    "from astropy.convolution import AiryDisk2DKernel\n",
    "import scipy.signal\n",
    "%matplotlib inline\n",
    "#plt.style.use('seaborn-colorblind')"
   ]
  },
  {
   "cell_type": "code",
   "execution_count": null,
   "metadata": {
    "collapsed": false
   },
   "outputs": [],
   "source": [
    "img = np.array(Image.open('bike2.png'))\n",
    "plt.imshow(img,cmap='gray')\n",
    "plt.axis('off')\n",
    "plt.savefig(\"bike.png\", bbox_inches='tight')"
   ]
  },
  {
   "cell_type": "code",
   "execution_count": null,
   "metadata": {
    "collapsed": false
   },
   "outputs": [],
   "source": [
    "airydisk_2D_kernel = AiryDisk2DKernel(10)"
   ]
  },
  {
   "cell_type": "code",
   "execution_count": null,
   "metadata": {
    "collapsed": false
   },
   "outputs": [],
   "source": [
    "plt.imshow(airydisk_2D_kernel,cmap='gray_r')\n",
    "plt.axis('off')\n",
    "plt.savefig(\"airy.png\", bbox_inches='tight')"
   ]
  },
  {
   "cell_type": "code",
   "execution_count": null,
   "metadata": {
    "collapsed": false
   },
   "outputs": [],
   "source": [
    "convolved = scipy.signal.convolve2d(255.0-img,np.array(airydisk_2D_kernel),'same')\n",
    "plt.imshow(convolved,cmap='gray_r')\n",
    "plt.axis('off')\n",
    "plt.savefig(\"convolved.png\", bbox_inches='tight')"
   ]
  },
  {
   "cell_type": "code",
   "execution_count": null,
   "metadata": {
    "collapsed": false
   },
   "outputs": [],
   "source": []
  },
  {
   "cell_type": "code",
   "execution_count": null,
   "metadata": {
    "collapsed": false
   },
   "outputs": [],
   "source": [
    "import random\n",
    "prob = 0.01\n",
    "cnt = 0\n",
    "img_out = np.zeros_like(img)\n",
    "for i in range(1000):\n",
    "    #plt.figure()\n",
    "    img2 = np.zeros_like(img)\n",
    "    for y in xrange(img2.shape[0]):\n",
    "        for x in xrange(img2.shape[1]):\n",
    "            if img[y,x] == 0:\n",
    "                if random.random() < prob:\n",
    "                    img2[y,x] = 255.0\n",
    "    convolved = scipy.signal.convolve2d(img2,np.array(airydisk_2D_kernel),'same')\n",
    "    if convolved.max() > 3.0 and convolved.max() < 6.0:\n",
    "        res = np.where(convolved == convolved.max())\n",
    "        cnt+=1\n",
    "        for yo,xo in zip(res[0],res[1]):\n",
    "            img_out[yo,xo] += 1.0\n",
    "print cnt\n",
    "plt.imshow(img_out,cmap='gray_r')\n",
    "plt.axis('off')\n",
    "plt.savefig(\"res.png\" , bbox_inches='tight')"
   ]
  },
  {
   "cell_type": "code",
   "execution_count": null,
   "metadata": {
    "collapsed": false
   },
   "outputs": [],
   "source": [
    "import random\n",
    "from sklearn.linear_model import Lasso"
   ]
  },
  {
   "cell_type": "code",
   "execution_count": null,
   "metadata": {
    "collapsed": false
   },
   "outputs": [],
   "source": [
    "A = np.zeros((img.ravel().shape[0],img.ravel().shape[0]))\n",
    "for i in xrange(img.ravel().shape[0]):\n",
    "    img2 = np.zeros_like(img)\n",
    "    img2[int(i)/int(img2.shape[0]),i%img2.shape[0]] = 1\n",
    "    convolved = scipy.signal.convolve2d(img2,np.array(airydisk_2D_kernel),'same')\n",
    "    A[i,:] = convolved.ravel()"
   ]
  },
  {
   "cell_type": "code",
   "execution_count": null,
   "metadata": {
    "collapsed": false
   },
   "outputs": [],
   "source": [
    "prob = 0.04\n",
    "img_out = np.zeros_like(img)\n",
    "\n",
    "for i in range(50):\n",
    "    #plt.figure()\n",
    "    img2 = np.zeros_like(img)\n",
    "    for y in xrange(img2.shape[0]):\n",
    "        for x in xrange(img2.shape[1]):\n",
    "            if img[y,x] == 0:\n",
    "                if random.random() < prob:\n",
    "                    img2[y,x] = 255.0\n",
    "    convolved = scipy.signal.convolve2d(img2,np.array(airydisk_2D_kernel),'same')\n",
    "    y = convolved.ravel()\n",
    "    clf = Lasso(alpha=0.00003,fit_intercept=False)\n",
    "    clf.fit(A,y)\n",
    "    #print A.shape,y.shape\n",
    "    #print clf.coef_.sum()\n",
    "    img_out += clf.coef_.reshape(img2.shape).astype(np.uint8)\n",
    "        \n",
    "plt.imshow(img_out,cmap='gray_r')\n",
    "plt.axis('off')\n",
    "plt.savefig(\"sparse.png\" , bbox_inches='tight')"
   ]
  },
  {
   "cell_type": "code",
   "execution_count": null,
   "metadata": {
    "collapsed": false
   },
   "outputs": [],
   "source": [
    "plt.imshow(convolved,cmap='gray_r')\n",
    "plt.axis('off')\n",
    "plt.savefig(\"sparse.png\" , bbox_inches='tight')"
   ]
  },
  {
   "cell_type": "code",
   "execution_count": null,
   "metadata": {
    "collapsed": true
   },
   "outputs": [],
   "source": []
  }
 ],
 "metadata": {
  "kernelspec": {
   "display_name": "Python [Root]",
   "language": "python",
   "name": "Python [Root]"
  },
  "language_info": {
   "codemirror_mode": {
    "name": "ipython",
    "version": 2
   },
   "file_extension": ".py",
   "mimetype": "text/x-python",
   "name": "python",
   "nbconvert_exporter": "python",
   "pygments_lexer": "ipython2",
   "version": "2.7.12"
  }
 },
 "nbformat": 4,
 "nbformat_minor": 0
}
